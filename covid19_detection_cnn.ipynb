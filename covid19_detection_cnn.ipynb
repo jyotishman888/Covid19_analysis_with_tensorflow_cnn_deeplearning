{
 "cells": [
  {
   "cell_type": "code",
   "execution_count": 14,
   "metadata": {
    "colab": {},
    "colab_type": "code",
    "id": "aL6VN4e8hNLv"
   },
   "outputs": [],
   "source": [
    "import os\n",
    "\n",
    "\n",
    "train_covid_dir = r\"C:\\Users\\Jyotishman Parasar\\Covid-19_Analysis_CNN\\data\\train\\COVID-19\"\n",
    "train_normal_dir = r\"C:\\Users\\Jyotishman Parasar\\Covid-19_Analysis_CNN\\data\\train\\NORMAL\"\n",
    "\n",
    "validation_covid_dir = r\"C:\\Users\\Jyotishman Parasar\\Covid-19_Analysis_CNN\\data\\validation\\COVID-19\"\n",
    "validation_covid_dir = r\"C:\\Users\\Jyotishman Parasar\\Covid-19_Analysis_CNN\\data\\validation\\NORMAL\""
   ]
  },
  {
   "cell_type": "code",
   "execution_count": 16,
   "metadata": {},
   "outputs": [],
   "source": [
    "import tensorflow as tf"
   ]
  },
  {
   "cell_type": "code",
   "execution_count": 17,
   "metadata": {},
   "outputs": [],
   "source": [
    "model = tf.keras.models.Sequential([\n",
    "    # Note the input shape is the desired size of the image 300x300 with 3 bytes color\n",
    "    # This is the first convolution\n",
    "    tf.keras.layers.Conv2D(16, (3,3), activation='relu', input_shape=(300, 300, 3)),\n",
    "    tf.keras.layers.MaxPooling2D(2, 2),\n",
    "    # The second convolution\n",
    "    tf.keras.layers.Conv2D(32, (3,3), activation='relu'),\n",
    "    tf.keras.layers.MaxPooling2D(2,2),\n",
    "    # The third convolution\n",
    "    tf.keras.layers.Conv2D(64, (3,3), activation='relu'),\n",
    "    tf.keras.layers.MaxPooling2D(2,2),\n",
    "    # The fourth convolution\n",
    "    tf.keras.layers.Conv2D(64, (3,3), activation='relu'),\n",
    "    tf.keras.layers.MaxPooling2D(2,2),\n",
    "    # The fifth convolution\n",
    "    tf.keras.layers.Conv2D(64, (3,3), activation='relu'),\n",
    "    tf.keras.layers.MaxPooling2D(2,2),\n",
    "    # Flatten the results to feed into a DNN\n",
    "    tf.keras.layers.Flatten(),\n",
    "    # 512 neuron hidden layer\n",
    "    tf.keras.layers.Dense(512, activation='relu'),\n",
    "    # Only 1 output neuron. \n",
    "    tf.keras.layers.Dense(1, activation='sigmoid')\n",
    "])"
   ]
  },
  {
   "cell_type": "code",
   "execution_count": 24,
   "metadata": {},
   "outputs": [
    {
     "name": "stdout",
     "output_type": "stream",
     "text": [
      "Model: \"sequential\"\n",
      "_________________________________________________________________\n",
      "Layer (type)                 Output Shape              Param #   \n",
      "=================================================================\n",
      "conv2d (Conv2D)              (None, 298, 298, 16)      448       \n",
      "_________________________________________________________________\n",
      "max_pooling2d (MaxPooling2D) (None, 149, 149, 16)      0         \n",
      "_________________________________________________________________\n",
      "conv2d_1 (Conv2D)            (None, 147, 147, 32)      4640      \n",
      "_________________________________________________________________\n",
      "max_pooling2d_1 (MaxPooling2 (None, 73, 73, 32)        0         \n",
      "_________________________________________________________________\n",
      "conv2d_2 (Conv2D)            (None, 71, 71, 64)        18496     \n",
      "_________________________________________________________________\n",
      "max_pooling2d_2 (MaxPooling2 (None, 35, 35, 64)        0         \n",
      "_________________________________________________________________\n",
      "conv2d_3 (Conv2D)            (None, 33, 33, 64)        36928     \n",
      "_________________________________________________________________\n",
      "max_pooling2d_3 (MaxPooling2 (None, 16, 16, 64)        0         \n",
      "_________________________________________________________________\n",
      "conv2d_4 (Conv2D)            (None, 14, 14, 64)        36928     \n",
      "_________________________________________________________________\n",
      "max_pooling2d_4 (MaxPooling2 (None, 7, 7, 64)          0         \n",
      "_________________________________________________________________\n",
      "flatten (Flatten)            (None, 3136)              0         \n",
      "_________________________________________________________________\n",
      "dense (Dense)                (None, 512)               1606144   \n",
      "_________________________________________________________________\n",
      "dense_1 (Dense)              (None, 1)                 513       \n",
      "=================================================================\n",
      "Total params: 1,704,097\n",
      "Trainable params: 1,704,097\n",
      "Non-trainable params: 0\n",
      "_________________________________________________________________\n"
     ]
    }
   ],
   "source": [
    "model.summary()"
   ]
  },
  {
   "cell_type": "code",
   "execution_count": 18,
   "metadata": {},
   "outputs": [],
   "source": [
    "from tensorflow.keras.optimizers import RMSprop\n",
    "\n",
    "model.compile(loss='binary_crossentropy',\n",
    "              optimizer=RMSprop(lr=1e-4),\n",
    "              metrics=['accuracy'])"
   ]
  },
  {
   "cell_type": "code",
   "execution_count": 20,
   "metadata": {},
   "outputs": [
    {
     "name": "stdout",
     "output_type": "stream",
     "text": [
      "Found 2905 images belonging to 2 classes.\n",
      "Found 273 images belonging to 2 classes.\n"
     ]
    }
   ],
   "source": [
    "from tensorflow.keras.preprocessing.image import ImageDataGenerator\n",
    "\n",
    "# All images will be rescaled by 1./255\n",
    "train_datagen = ImageDataGenerator(\n",
    "      rescale=1./255,\n",
    "      rotation_range=40,\n",
    "      width_shift_range=0.2,\n",
    "      height_shift_range=0.2,\n",
    "      shear_range=0.2,\n",
    "      zoom_range=0.2,\n",
    "      horizontal_flip=True,\n",
    "      fill_mode='nearest')\n",
    "\n",
    "validation_datagen = ImageDataGenerator(rescale=1/255)\n",
    "\n",
    "# Flow training images in batches of 128 using train_datagen generator\n",
    "train_generator = train_datagen.flow_from_directory(\n",
    "        r'C:\\Users\\Jyotishman Parasar\\Covid-19_Analysis_CNN\\data\\train',  # This is the source directory for training images\n",
    "        target_size=(300, 300),  # All images will be resized to 150x150\n",
    "        batch_size=128,\n",
    "        # Since we use binary_crossentropy loss, we need binary labels\n",
    "        class_mode='binary')\n",
    "\n",
    "# Flow training images in batches of 128 using train_datagen generator\n",
    "validation_generator = validation_datagen.flow_from_directory(\n",
    "        r'C:\\Users\\Jyotishman Parasar\\Covid-19_Analysis_CNN\\data\\validation',  # This is the source directory for training images\n",
    "        target_size=(300, 300),  # All images will be resized to 150x150\n",
    "        batch_size=10,\n",
    "        # Since we use binary_crossentropy loss, we need binary labels\n",
    "        class_mode='binary')"
   ]
  },
  {
   "cell_type": "code",
   "execution_count": 21,
   "metadata": {},
   "outputs": [
    {
     "name": "stdout",
     "output_type": "stream",
     "text": [
      "WARNING:tensorflow:sample_weight modes were coerced from\n",
      "  ...\n",
      "    to  \n",
      "  ['...']\n",
      "WARNING:tensorflow:sample_weight modes were coerced from\n",
      "  ...\n",
      "    to  \n",
      "  ['...']\n",
      "Train for 8 steps, validate for 8 steps\n",
      "Epoch 1/50\n",
      "8/8 [==============================] - 399s 50s/step - loss: 0.3836 - accuracy: 0.8164 - val_loss: 1.0859 - val_accuracy: 0.5664\n",
      "Epoch 2/50\n",
      "8/8 [==============================] - 138s 17s/step - loss: 0.2490 - accuracy: 0.9289 - val_loss: 1.0007 - val_accuracy: 0.5664\n",
      "Epoch 3/50\n",
      "8/8 [==============================] - 162s 20s/step - loss: 0.2395 - accuracy: 0.9297 - val_loss: 0.9243 - val_accuracy: 0.5664\n",
      "Epoch 4/50\n",
      "8/8 [==============================] - 195s 24s/step - loss: 0.2448 - accuracy: 0.9249 - val_loss: 1.0799 - val_accuracy: 0.5664\n",
      "Epoch 5/50\n",
      "8/8 [==============================] - 148s 19s/step - loss: 0.2498 - accuracy: 0.9199 - val_loss: 0.7713 - val_accuracy: 0.5664\n",
      "Epoch 6/50\n",
      "8/8 [==============================] - 135s 17s/step - loss: 0.2576 - accuracy: 0.9111 - val_loss: 0.7960 - val_accuracy: 0.5664\n",
      "Epoch 7/50\n",
      "8/8 [==============================] - 135s 17s/step - loss: 0.2291 - accuracy: 0.9208 - val_loss: 0.8334 - val_accuracy: 0.5664\n",
      "Epoch 8/50\n",
      "8/8 [==============================] - 162s 20s/step - loss: 0.2153 - accuracy: 0.9297 - val_loss: 0.7854 - val_accuracy: 0.5664\n",
      "Epoch 9/50\n",
      "8/8 [==============================] - 150s 19s/step - loss: 0.2055 - accuracy: 0.9287 - val_loss: 0.6635 - val_accuracy: 0.5664\n",
      "Epoch 10/50\n",
      "8/8 [==============================] - 136s 17s/step - loss: 0.2255 - accuracy: 0.9219 - val_loss: 0.8079 - val_accuracy: 0.5664\n",
      "Epoch 11/50\n",
      "8/8 [==============================] - 133s 17s/step - loss: 0.1921 - accuracy: 0.9209 - val_loss: 0.8721 - val_accuracy: 0.5664\n",
      "Epoch 12/50\n",
      "8/8 [==============================] - 142s 18s/step - loss: 0.2060 - accuracy: 0.9320 - val_loss: 0.7640 - val_accuracy: 0.5664\n",
      "Epoch 13/50\n",
      "8/8 [==============================] - 119s 15s/step - loss: 0.1847 - accuracy: 0.9299 - val_loss: 0.6437 - val_accuracy: 0.5781\n",
      "Epoch 14/50\n",
      "8/8 [==============================] - 135s 17s/step - loss: 0.1721 - accuracy: 0.9307 - val_loss: 0.6314 - val_accuracy: 0.6133\n",
      "Epoch 15/50\n",
      "8/8 [==============================] - 131s 16s/step - loss: 0.1939 - accuracy: 0.9355 - val_loss: 0.6051 - val_accuracy: 0.6055\n",
      "Epoch 16/50\n",
      "8/8 [==============================] - 123s 15s/step - loss: 0.1699 - accuracy: 0.9330 - val_loss: 0.5638 - val_accuracy: 0.6289\n",
      "Epoch 17/50\n",
      "8/8 [==============================] - 108s 14s/step - loss: 0.1751 - accuracy: 0.9365 - val_loss: 0.4796 - val_accuracy: 0.7305\n",
      "Epoch 18/50\n",
      "8/8 [==============================] - 140s 17s/step - loss: 0.1848 - accuracy: 0.9404 - val_loss: 0.4943 - val_accuracy: 0.7148\n",
      "Epoch 19/50\n",
      "8/8 [==============================] - 109s 14s/step - loss: 0.1611 - accuracy: 0.9421 - val_loss: 0.5540 - val_accuracy: 0.6680\n",
      "Epoch 20/50\n",
      "8/8 [==============================] - 119s 15s/step - loss: 0.1805 - accuracy: 0.9434 - val_loss: 0.6069 - val_accuracy: 0.6328\n",
      "Epoch 21/50\n",
      "8/8 [==============================] - 129s 16s/step - loss: 0.1882 - accuracy: 0.9297 - val_loss: 0.5324 - val_accuracy: 0.6875\n",
      "Epoch 22/50\n",
      "8/8 [==============================] - 141s 18s/step - loss: 0.1581 - accuracy: 0.9463 - val_loss: 0.3578 - val_accuracy: 0.8906\n",
      "Epoch 23/50\n",
      "8/8 [==============================] - 112s 14s/step - loss: 0.1571 - accuracy: 0.9452 - val_loss: 0.3975 - val_accuracy: 0.8594\n",
      "Epoch 24/50\n",
      "8/8 [==============================] - 119s 15s/step - loss: 0.1710 - accuracy: 0.9404 - val_loss: 0.4031 - val_accuracy: 0.8516\n",
      "Epoch 25/50\n",
      "8/8 [==============================] - 128s 16s/step - loss: 0.1625 - accuracy: 0.9297 - val_loss: 0.4686 - val_accuracy: 0.8164\n",
      "Epoch 26/50\n",
      "8/8 [==============================] - 137s 17s/step - loss: 0.1563 - accuracy: 0.9443 - val_loss: 0.5663 - val_accuracy: 0.7148\n",
      "Epoch 27/50\n",
      "8/8 [==============================] - 194s 24s/step - loss: 0.1478 - accuracy: 0.9513 - val_loss: 0.3747 - val_accuracy: 0.8906\n",
      "Epoch 28/50\n",
      "8/8 [==============================] - 157s 20s/step - loss: 0.1551 - accuracy: 0.9492 - val_loss: 0.4770 - val_accuracy: 0.8047\n",
      "Epoch 29/50\n",
      "8/8 [==============================] - 144s 18s/step - loss: 0.1718 - accuracy: 0.9424 - val_loss: 0.5963 - val_accuracy: 0.6914\n",
      "Epoch 30/50\n",
      "8/8 [==============================] - 129s 16s/step - loss: 0.1309 - accuracy: 0.9543 - val_loss: 0.5854 - val_accuracy: 0.7305\n",
      "Epoch 31/50\n",
      "8/8 [==============================] - 124s 15s/step - loss: 0.1561 - accuracy: 0.9523 - val_loss: 0.3260 - val_accuracy: 0.9062\n",
      "Epoch 32/50\n",
      "8/8 [==============================] - 114s 14s/step - loss: 0.1607 - accuracy: 0.9482 - val_loss: 0.4841 - val_accuracy: 0.8125\n",
      "Epoch 33/50\n",
      "8/8 [==============================] - 151s 19s/step - loss: 0.1573 - accuracy: 0.9442 - val_loss: 0.4209 - val_accuracy: 0.8633\n",
      "Epoch 34/50\n",
      "8/8 [==============================] - 228s 29s/step - loss: 0.1600 - accuracy: 0.9482 - val_loss: 0.3832 - val_accuracy: 0.8828\n",
      "Epoch 35/50\n",
      "8/8 [==============================] - 118s 15s/step - loss: 0.1538 - accuracy: 0.9482 - val_loss: 0.3519 - val_accuracy: 0.8906\n",
      "Epoch 36/50\n",
      "8/8 [==============================] - 110s 14s/step - loss: 0.1549 - accuracy: 0.9473 - val_loss: 0.3391 - val_accuracy: 0.8906\n",
      "Epoch 37/50\n",
      "8/8 [==============================] - 145s 18s/step - loss: 0.1179 - accuracy: 0.9574 - val_loss: 0.3745 - val_accuracy: 0.8945\n",
      "Epoch 38/50\n",
      "8/8 [==============================] - 108s 13s/step - loss: 0.1516 - accuracy: 0.9584 - val_loss: 0.3855 - val_accuracy: 0.8789\n",
      "Epoch 39/50\n",
      "8/8 [==============================] - 154s 19s/step - loss: 0.1606 - accuracy: 0.9434 - val_loss: 0.3661 - val_accuracy: 0.8867\n",
      "Epoch 40/50\n",
      "8/8 [==============================] - 155s 19s/step - loss: 0.1326 - accuracy: 0.9629 - val_loss: 0.6992 - val_accuracy: 0.6562\n",
      "Epoch 41/50\n",
      "8/8 [==============================] - 119s 15s/step - loss: 0.1462 - accuracy: 0.9482 - val_loss: 0.3067 - val_accuracy: 0.9023\n",
      "Epoch 42/50\n",
      "8/8 [==============================] - 126s 16s/step - loss: 0.1186 - accuracy: 0.9629 - val_loss: 0.4786 - val_accuracy: 0.8477\n",
      "Epoch 43/50\n",
      "8/8 [==============================] - 124s 15s/step - loss: 0.1461 - accuracy: 0.9521 - val_loss: 0.3691 - val_accuracy: 0.8828\n",
      "Epoch 44/50\n",
      "8/8 [==============================] - 124s 15s/step - loss: 0.1437 - accuracy: 0.9584 - val_loss: 0.4279 - val_accuracy: 0.8477\n",
      "Epoch 45/50\n",
      "8/8 [==============================] - 158s 20s/step - loss: 0.1511 - accuracy: 0.9453 - val_loss: 0.2979 - val_accuracy: 0.9141\n",
      "Epoch 46/50\n",
      "8/8 [==============================] - 112s 14s/step - loss: 0.1339 - accuracy: 0.9563 - val_loss: 0.4032 - val_accuracy: 0.8516\n",
      "Epoch 47/50\n",
      "8/8 [==============================] - 106s 13s/step - loss: 0.1215 - accuracy: 0.9645 - val_loss: 0.3595 - val_accuracy: 0.8906\n",
      "Epoch 48/50\n",
      "8/8 [==============================] - 124s 15s/step - loss: 0.1605 - accuracy: 0.9421 - val_loss: 0.3642 - val_accuracy: 0.8828\n",
      "Epoch 49/50\n",
      "8/8 [==============================] - 146s 18s/step - loss: 0.1198 - accuracy: 0.9574 - val_loss: 0.2821 - val_accuracy: 0.9180\n",
      "Epoch 50/50\n",
      "8/8 [==============================] - 111s 14s/step - loss: 0.1240 - accuracy: 0.9553 - val_loss: 0.3443 - val_accuracy: 0.8906\n"
     ]
    }
   ],
   "source": [
    "history = model.fit(\n",
    "      train_generator,\n",
    "      steps_per_epoch=8,  \n",
    "      epochs=50,\n",
    "      verbose=1,\n",
    "      validation_data = validation_generator,\n",
    "      validation_steps=8)"
   ]
  },
  {
   "cell_type": "code",
   "execution_count": 23,
   "metadata": {},
   "outputs": [
    {
     "data": {
      "image/png": "[encoded data removed]",
      "text/plain": [
       "<Figure size 432x288 with 1 Axes>"
      ]
     },
     "metadata": {
      "needs_background": "light"
     },
     "output_type": "display_data"
    },
    {
     "data": {
      "image/png": "[encoded data removed]",
      "text/plain": [
       "<Figure size 432x288 with 1 Axes>"
      ]
     },
     "metadata": {
      "needs_background": "light"
     },
     "output_type": "display_data"
    }
   ],
   "source": [
    "import matplotlib.pyplot as plt\n",
    "acc = history.history['accuracy']\n",
    "val_acc = history.history['val_accuracy']\n",
    "loss = history.history['loss']\n",
    "val_loss = history.history['val_loss']\n",
    "\n",
    "epochs = range(len(acc))\n",
    "\n",
    "plt.plot(epochs, acc, 'r', label='Training accuracy')\n",
    "plt.plot(epochs, val_acc, 'b', label='Validation accuracy')\n",
    "plt.title('Training and validation accuracy')\n",
    "\n",
    "plt.figure()\n",
    "\n",
    "plt.plot(epochs, loss, 'r', label='Training Loss')\n",
    "plt.plot(epochs, val_loss, 'b', label='Validation Loss')\n",
    "plt.title('Training and validation loss')\n",
    "plt.legend()\n",
    "\n",
    "plt.show()"
   ]
  },
  {
   "cell_type": "code",
   "execution_count": 27,
   "metadata": {},
   "outputs": [
    {
     "ename": "ModuleNotFoundError",
     "evalue": "No module named 'google.colab'",
     "output_type": "error",
     "traceback": [
      "\u001b[1;31m---------------------------------------------------------------------------\u001b[0m",
      "\u001b[1;31mModuleNotFoundError\u001b[0m                       Traceback (most recent call last)",
      "\u001b[1;32m<ipython-input-27-81835629f56a>\u001b[0m in \u001b[0;36m<module>\u001b[1;34m\u001b[0m\n\u001b[0;32m      1\u001b[0m \u001b[1;32mimport\u001b[0m \u001b[0mnumpy\u001b[0m \u001b[1;32mas\u001b[0m \u001b[0mnp\u001b[0m\u001b[1;33m\u001b[0m\u001b[1;33m\u001b[0m\u001b[0m\n\u001b[0;32m      2\u001b[0m \u001b[1;33m\u001b[0m\u001b[0m\n\u001b[1;32m----> 3\u001b[1;33m \u001b[1;32mfrom\u001b[0m \u001b[0mgoogle\u001b[0m\u001b[1;33m.\u001b[0m\u001b[0mcolab\u001b[0m \u001b[1;32mimport\u001b[0m \u001b[0mfiles\u001b[0m\u001b[1;33m\u001b[0m\u001b[1;33m\u001b[0m\u001b[0m\n\u001b[0m\u001b[0;32m      4\u001b[0m \u001b[1;32mfrom\u001b[0m \u001b[0mkeras\u001b[0m\u001b[1;33m.\u001b[0m\u001b[0mpreprocessing\u001b[0m \u001b[1;32mimport\u001b[0m \u001b[0mimage\u001b[0m\u001b[1;33m\u001b[0m\u001b[1;33m\u001b[0m\u001b[0m\n\u001b[0;32m      5\u001b[0m \u001b[1;33m\u001b[0m\u001b[0m\n",
      "\u001b[1;31mModuleNotFoundError\u001b[0m: No module named 'google.colab'"
     ]
    }
   ],
   "source": [
    "import numpy as np\n",
    "\n",
    "from google.colab import files\n",
    "from keras.preprocessing import image\n",
    "\n",
    "uploaded=files.upload()\n",
    "\n",
    "for fn in uploaded.keys():\n",
    " \n",
    "  # predicting images\n",
    "  path='/content/' + fn\n",
    "  img=image.load_img(path, target_size=(150, 150))\n",
    "  \n",
    "  x=image.img_to_array(img)\n",
    "  x=np.expand_dims(x, axis=0)\n",
    "  images = np.vstack([x])\n",
    "  \n",
    "  classes = model.predict(images, batch_size=10)\n",
    "  \n",
    "  print(classes[0])\n",
    "  \n",
    "  if classes[0]>0:\n",
    "    print(fn + \" is a covid\")\n",
    "    \n",
    "  else:\n",
    "    print(fn + \" is a normal\")"
   ]
  },
  {
   "cell_type": "code",
   "execution_count": null,
   "metadata": {},
   "outputs": [],
   "source": []
  }
 ],
 "metadata": {
  "colab": {
   "name": "covid19_detection_cnn.ipynb",
   "provenance": []
  },
  "kernelspec": {
   "display_name": "Python 3",
   "language": "python",
   "name": "python3"
  },
  "language_info": {
   "codemirror_mode": {
    "name": "ipython",
    "version": 3
   },
   "file_extension": ".py",
   "mimetype": "text/x-python",
   "name": "python",
   "nbconvert_exporter": "python",
   "pygments_lexer": "ipython3",
   "version": "3.7.4"
  }
 },
 "nbformat": 4,
 "nbformat_minor": 1
}
